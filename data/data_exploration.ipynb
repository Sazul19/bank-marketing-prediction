{
 "cells": [
  {
   "cell_type": "markdown",
   "metadata": {},
   "source": [
    "## Data Exploration\n",
    "\n",
    "1. Import Required Libraries and Load the Dataset \n"
   ]
  },
  {
   "cell_type": "code",
   "execution_count": 8,
   "metadata": {},
   "outputs": [
    {
     "ename": "SyntaxError",
     "evalue": "invalid syntax (1463538324.py, line 1)",
     "output_type": "error",
     "traceback": [
      "\u001b[1;36m  Cell \u001b[1;32mIn[8], line 1\u001b[1;36m\u001b[0m\n\u001b[1;33m    pip install ucimlrepo\u001b[0m\n\u001b[1;37m        ^\u001b[0m\n\u001b[1;31mSyntaxError\u001b[0m\u001b[1;31m:\u001b[0m invalid syntax\n"
     ]
    }
   ],
   "source": [
    "pip install ucimlrepo\n",
    "\n",
    "## Import libraries\n",
    "\n",
    "import pandas as pd\n",
    "from ucimlrepo import fetch_ucirepo"
   ]
  },
  {
   "cell_type": "code",
   "execution_count": null,
   "metadata": {},
   "outputs": [],
   "source": [
    "\n",
    "\n",
    "# fetch dataset\n",
    "bank_marketing = fetch_ucirepo(id=222)\n",
    "\n",
    "# data (as pandas dataframes)\n",
    "X = bank_marketing.data.features\n",
    "y = bank_marketing.data.targets\n",
    "\n",
    "\n",
    "\n",
    "# variable information\n",
    "print(bank_marketing.variables.to_string())\n"
   ]
  },
  {
   "cell_type": "code",
   "execution_count": null,
   "metadata": {},
   "outputs": [],
   "source": [
    "\n",
    "# Inspect features\n",
    "print(\"First 5 rows of features:\")\n",
    "print(X.head(), \"\\n\")\n",
    "\n",
    "\n",
    "print(\"Information about features:\")\n",
    "print(X.info(), \"\\n\")\n",
    "\n",
    "print(\"Descriptive statistics of features:\")\n",
    "print(X.describe(), \"\\n\")\n",
    "\n",
    "print(\"Missing values in features:\")\n",
    "print(X.isnull().sum(), \"\\n\")\n",
    "\n",
    "# Inspect target\n",
    "print(\"First 5 rows of target:\")\n",
    "print(y.head(), \"\\n\")\n",
    "\n",
    "print(\"Value counts of target:\")\n",
    "print(y.value_counts(), \"\\n\")\n",
    "\n",
    "print(\"Normalized value counts of target:\")\n",
    "print(y.value_counts(normalize=True))"
   ]
  }
 ],
 "metadata": {
  "kernelspec": {
   "display_name": ".venv",
   "language": "python",
   "name": "python3"
  },
  "language_info": {
   "codemirror_mode": {
    "name": "ipython",
    "version": 3
   },
   "file_extension": ".py",
   "mimetype": "text/x-python",
   "name": "python",
   "nbconvert_exporter": "python",
   "pygments_lexer": "ipython3",
   "version": "3.13.0"
  }
 },
 "nbformat": 4,
 "nbformat_minor": 2
}
