{
  "cells": [
    {
      "cell_type": "code",
      "execution_count": 2,
      "metadata": {
        "colab": {
          "base_uri": "https://localhost:8080/"
        },
        "id": "320vRPnFBkdI",
        "outputId": "ea77f98b-908f-420b-c2d7-a35ed4db9d82"
      },
      "outputs": [
        {
          "ename": "NameError",
          "evalue": "name 'X' is not defined",
          "output_type": "error",
          "traceback": [
            "\u001b[1;31m---------------------------------------------------------------------------\u001b[0m",
            "\u001b[1;31mNameError\u001b[0m                                 Traceback (most recent call last)",
            "Cell \u001b[1;32mIn[2], line 12\u001b[0m\n\u001b[0;32m      8\u001b[0m         mis_val_summary\u001b[38;5;241m=\u001b[39mmis_val_table\u001b[38;5;241m.\u001b[39mrename(columns\u001b[38;5;241m=\u001b[39m{\u001b[38;5;241m0\u001b[39m:\u001b[38;5;124m'\u001b[39m\u001b[38;5;124mMissing values\u001b[39m\u001b[38;5;124m'\u001b[39m,\u001b[38;5;241m1\u001b[39m:\u001b[38;5;124m'\u001b[39m\u001b[38;5;124mpercentage\u001b[39m\u001b[38;5;124m'\u001b[39m})\n\u001b[0;32m     10\u001b[0m         \u001b[38;5;28;01mreturn\u001b[39;00m mis_val_summary\n\u001b[1;32m---> 12\u001b[0m \u001b[38;5;28mprint\u001b[39m(missing_values_summarizer(\u001b[43mX\u001b[49m))\n",
            "\u001b[1;31mNameError\u001b[0m: name 'X' is not defined"
          ]
        }
      ],
      "source": [
        "###missing values handling\n",
        "\n",
        "##checking missing value percentages\n",
        "def missing_values_summarizer(df):\n",
        "        mis_val=df.isnull().sum()\n",
        "        mis_val_percentage=100*mis_val/len(df)\n",
        "        mis_val_table=pd.concat([mis_val,mis_val_percentage],axis=1)\n",
        "        mis_val_summary=mis_val_table.rename(columns={0:'Missing values',1:'percentage'})\n",
        "\n",
        "        return mis_val_summary\n",
        "\n",
        "print(missing_values_summarizer(X))"
      ]
    }
  ],
  "metadata": {
    "colab": {
      "provenance": []
    },
    "kernelspec": {
      "display_name": ".venv",
      "language": "python",
      "name": "python3"
    },
    "language_info": {
      "codemirror_mode": {
        "name": "ipython",
        "version": 3
      },
      "file_extension": ".py",
      "mimetype": "text/x-python",
      "name": "python",
      "nbconvert_exporter": "python",
      "pygments_lexer": "ipython3",
      "version": "3.13.0"
    }
  },
  "nbformat": 4,
  "nbformat_minor": 0
}
