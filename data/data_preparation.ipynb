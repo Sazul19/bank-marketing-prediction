{
  "cells": [
    {
      "cell_type": "code",
      "execution_count": 1,
      "metadata": {
        "id": "aE3paSevBBxk",
        "outputId": "e797b6c2-b126-44a2-e936-93c435f4b2c2",
        "colab": {
          "base_uri": "https://localhost:8080/"
        }
      },
      "outputs": [
        {
          "output_type": "stream",
          "name": "stdout",
          "text": [
            "Collecting ucimlrepo\n",
            "  Downloading ucimlrepo-0.0.7-py3-none-any.whl.metadata (5.5 kB)\n",
            "Requirement already satisfied: pandas>=1.0.0 in /usr/local/lib/python3.10/dist-packages (from ucimlrepo) (2.2.2)\n",
            "Requirement already satisfied: certifi>=2020.12.5 in /usr/local/lib/python3.10/dist-packages (from ucimlrepo) (2024.8.30)\n",
            "Requirement already satisfied: numpy>=1.22.4 in /usr/local/lib/python3.10/dist-packages (from pandas>=1.0.0->ucimlrepo) (1.26.4)\n",
            "Requirement already satisfied: python-dateutil>=2.8.2 in /usr/local/lib/python3.10/dist-packages (from pandas>=1.0.0->ucimlrepo) (2.8.2)\n",
            "Requirement already satisfied: pytz>=2020.1 in /usr/local/lib/python3.10/dist-packages (from pandas>=1.0.0->ucimlrepo) (2024.2)\n",
            "Requirement already satisfied: tzdata>=2022.7 in /usr/local/lib/python3.10/dist-packages (from pandas>=1.0.0->ucimlrepo) (2024.2)\n",
            "Requirement already satisfied: six>=1.5 in /usr/local/lib/python3.10/dist-packages (from python-dateutil>=2.8.2->pandas>=1.0.0->ucimlrepo) (1.17.0)\n",
            "Downloading ucimlrepo-0.0.7-py3-none-any.whl (8.0 kB)\n",
            "Installing collected packages: ucimlrepo\n",
            "Successfully installed ucimlrepo-0.0.7\n"
          ]
        }
      ],
      "source": [
        "pip install ucimlrepo"
      ]
    },
    {
      "cell_type": "code",
      "source": [
        "from ucimlrepo import fetch_ucirepo\n",
        "\n",
        "# fetch dataset\n",
        "bank_marketing = fetch_ucirepo(id=222)\n",
        "\n",
        "# data (as pandas dataframes)\n",
        "X = bank_marketing.data.features\n",
        "y = bank_marketing.data.targets\n",
        "\n",
        "\n",
        "\n",
        "# variable information\n",
        "print(bank_marketing.variables.to_string())\n"
      ],
      "metadata": {
        "colab": {
          "base_uri": "https://localhost:8080/"
        },
        "id": "T3QMoVTXBE8C",
        "outputId": "b7ce457d-6b76-4d44-ffc3-6981c1c65663"
      },
      "execution_count": 7,
      "outputs": [
        {
          "output_type": "stream",
          "name": "stdout",
          "text": [
            "           name     role         type      demographic                                                                                                                                                                                                                                                                                                                                                                                                           description  units missing_values\n",
            "0           age  Feature      Integer              Age                                                                                                                                                                                                                                                                                                                                                                                                                  None   None             no\n",
            "1           job  Feature  Categorical       Occupation                                                                                                                                                                                                                                          type of job (categorical: 'admin.','blue-collar','entrepreneur','housemaid','management','retired','self-employed','services','student','technician','unemployed','unknown')   None             no\n",
            "2       marital  Feature  Categorical   Marital Status                                                                                                                                                                                                                                                                                                     marital status (categorical: 'divorced','married','single','unknown'; note: 'divorced' means divorced or widowed)   None             no\n",
            "3     education  Feature  Categorical  Education Level                                                                                                                                                                                                                                                                                        (categorical: 'basic.4y','basic.6y','basic.9y','high.school','illiterate','professional.course','university.degree','unknown')   None             no\n",
            "4       default  Feature       Binary             None                                                                                                                                                                                                                                                                                                                                                                                                has credit in default?   None             no\n",
            "5       balance  Feature      Integer             None                                                                                                                                                                                                                                                                                                                                                                                                average yearly balance  euros             no\n",
            "6       housing  Feature       Binary             None                                                                                                                                                                                                                                                                                                                                                                                                     has housing loan?   None             no\n",
            "7          loan  Feature       Binary             None                                                                                                                                                                                                                                                                                                                                                                                                    has personal loan?   None             no\n",
            "8       contact  Feature  Categorical             None                                                                                                                                                                                                                                                                                                                                                     contact communication type (categorical: 'cellular','telephone')    None            yes\n",
            "9   day_of_week  Feature         Date             None                                                                                                                                                                                                                                                                                                                                                                                          last contact day of the week   None             no\n",
            "10        month  Feature         Date             None                                                                                                                                                                                                                                                                                                                                      last contact month of year (categorical: 'jan', 'feb', 'mar', ..., 'nov', 'dec')   None             no\n",
            "11     duration  Feature      Integer             None   last contact duration, in seconds (numeric). Important note:  this attribute highly affects the output target (e.g., if duration=0 then y='no'). Yet, the duration is not known before a call is performed. Also, after the end of the call y is obviously known. Thus, this input should only be included for benchmark purposes and should be discarded if the intention is to have a realistic predictive model.   None             no\n",
            "12     campaign  Feature      Integer             None                                                                                                                                                                                                                                                                                                                number of contacts performed during this campaign and for this client (numeric, includes last contact)   None             no\n",
            "13        pdays  Feature      Integer             None                                                                                                                                                                                                                                                                    number of days that passed by after the client was last contacted from a previous campaign (numeric; -1 means client was not previously contacted)   None            yes\n",
            "14     previous  Feature      Integer             None                                                                                                                                                                                                                                                                                                                                                 number of contacts performed before this campaign and for this client   None             no\n",
            "15     poutcome  Feature  Categorical             None                                                                                                                                                                                                                                                                                                                           outcome of the previous marketing campaign (categorical: 'failure','nonexistent','success')   None            yes\n",
            "16            y   Target       Binary             None                                                                                                                                                                                                                                                                                                                                                                             has the client subscribed a term deposit?   None             no\n"
          ]
        }
      ]
    },
    {
      "cell_type": "code",
      "source": [
        "import pandas as pd\n",
        "# Inspect features\n",
        "print(\"First 5 rows of features:\")\n",
        "print(X.head(), \"\\n\")\n",
        "\n",
        "\n",
        "print(\"Information about features:\")\n",
        "print(X.info(), \"\\n\")\n",
        "\n",
        "print(\"Descriptive statistics of features:\")\n",
        "print(X.describe(), \"\\n\")\n",
        "\n",
        "print(\"Missing values in features:\")\n",
        "print(X.isnull().sum(), \"\\n\")\n",
        "\n",
        "# Inspect target\n",
        "print(\"First 5 rows of target:\")\n",
        "print(y.head(), \"\\n\")\n",
        "\n",
        "print(\"Value counts of target:\")\n",
        "print(y.value_counts(), \"\\n\")\n",
        "\n",
        "print(\"Normalized value counts of target:\")\n",
        "print(y.value_counts(normalize=True))"
      ],
      "metadata": {
        "id": "ZzyDpM5HBehN",
        "outputId": "8b43a4b5-ab56-4036-e1da-656e8a4e7585",
        "colab": {
          "base_uri": "https://localhost:8080/"
        }
      },
      "execution_count": 3,
      "outputs": [
        {
          "output_type": "stream",
          "name": "stdout",
          "text": [
            "First 5 rows of features:\n",
            "   age           job  marital  education default  balance housing loan  \\\n",
            "0   58    management  married   tertiary      no     2143     yes   no   \n",
            "1   44    technician   single  secondary      no       29     yes   no   \n",
            "2   33  entrepreneur  married  secondary      no        2     yes  yes   \n",
            "3   47   blue-collar  married        NaN      no     1506     yes   no   \n",
            "4   33           NaN   single        NaN      no        1      no   no   \n",
            "\n",
            "  contact  day_of_week month  duration  campaign  pdays  previous poutcome  \n",
            "0     NaN            5   may       261         1     -1         0      NaN  \n",
            "1     NaN            5   may       151         1     -1         0      NaN  \n",
            "2     NaN            5   may        76         1     -1         0      NaN  \n",
            "3     NaN            5   may        92         1     -1         0      NaN  \n",
            "4     NaN            5   may       198         1     -1         0      NaN   \n",
            "\n",
            "Last 5 rows of features:\n",
            "       age           job   marital  education default  balance housing loan  \\\n",
            "45206   51    technician   married   tertiary      no      825      no   no   \n",
            "45207   71       retired  divorced    primary      no     1729      no   no   \n",
            "45208   72       retired   married  secondary      no     5715      no   no   \n",
            "45209   57   blue-collar   married  secondary      no      668      no   no   \n",
            "45210   37  entrepreneur   married  secondary      no     2971      no   no   \n",
            "\n",
            "         contact  day_of_week month  duration  campaign  pdays  previous  \\\n",
            "45206   cellular           17   nov       977         3     -1         0   \n",
            "45207   cellular           17   nov       456         2     -1         0   \n",
            "45208   cellular           17   nov      1127         5    184         3   \n",
            "45209  telephone           17   nov       508         4     -1         0   \n",
            "45210   cellular           17   nov       361         2    188        11   \n",
            "\n",
            "      poutcome  \n",
            "45206      NaN  \n",
            "45207      NaN  \n",
            "45208  success  \n",
            "45209      NaN  \n",
            "45210    other   \n",
            "\n",
            "Shape of features: (45211, 16) \n",
            "\n",
            "Information about features:\n",
            "<class 'pandas.core.frame.DataFrame'>\n",
            "RangeIndex: 45211 entries, 0 to 45210\n",
            "Data columns (total 16 columns):\n",
            " #   Column       Non-Null Count  Dtype \n",
            "---  ------       --------------  ----- \n",
            " 0   age          45211 non-null  int64 \n",
            " 1   job          44923 non-null  object\n",
            " 2   marital      45211 non-null  object\n",
            " 3   education    43354 non-null  object\n",
            " 4   default      45211 non-null  object\n",
            " 5   balance      45211 non-null  int64 \n",
            " 6   housing      45211 non-null  object\n",
            " 7   loan         45211 non-null  object\n",
            " 8   contact      32191 non-null  object\n",
            " 9   day_of_week  45211 non-null  int64 \n",
            " 10  month        45211 non-null  object\n",
            " 11  duration     45211 non-null  int64 \n",
            " 12  campaign     45211 non-null  int64 \n",
            " 13  pdays        45211 non-null  int64 \n",
            " 14  previous     45211 non-null  int64 \n",
            " 15  poutcome     8252 non-null   object\n",
            "dtypes: int64(7), object(9)\n",
            "memory usage: 5.5+ MB\n",
            "None \n",
            "\n",
            "Descriptive statistics of features:\n",
            "                age        balance   day_of_week      duration      campaign  \\\n",
            "count  45211.000000   45211.000000  45211.000000  45211.000000  45211.000000   \n",
            "mean      40.936210    1362.272058     15.806419    258.163080      2.763841   \n",
            "std       10.618762    3044.765829      8.322476    257.527812      3.098021   \n",
            "min       18.000000   -8019.000000      1.000000      0.000000      1.000000   \n",
            "25%       33.000000      72.000000      8.000000    103.000000      1.000000   \n",
            "50%       39.000000     448.000000     16.000000    180.000000      2.000000   \n",
            "75%       48.000000    1428.000000     21.000000    319.000000      3.000000   \n",
            "max       95.000000  102127.000000     31.000000   4918.000000     63.000000   \n",
            "\n",
            "              pdays      previous  \n",
            "count  45211.000000  45211.000000  \n",
            "mean      40.197828      0.580323  \n",
            "std      100.128746      2.303441  \n",
            "min       -1.000000      0.000000  \n",
            "25%       -1.000000      0.000000  \n",
            "50%       -1.000000      0.000000  \n",
            "75%       -1.000000      0.000000  \n",
            "max      871.000000    275.000000   \n",
            "\n",
            "Missing values in features:\n",
            "age                0\n",
            "job              288\n",
            "marital            0\n",
            "education       1857\n",
            "default            0\n",
            "balance            0\n",
            "housing            0\n",
            "loan               0\n",
            "contact        13020\n",
            "day_of_week        0\n",
            "month              0\n",
            "duration           0\n",
            "campaign           0\n",
            "pdays              0\n",
            "previous           0\n",
            "poutcome       36959\n",
            "dtype: int64 \n",
            "\n",
            "First 5 rows of target:\n",
            "    y\n",
            "0  no\n",
            "1  no\n",
            "2  no\n",
            "3  no\n",
            "4  no \n",
            "\n",
            "Value counts of target:\n",
            "y  \n",
            "no     39922\n",
            "yes     5289\n",
            "Name: count, dtype: int64 \n",
            "\n",
            "Normalized value counts of target:\n",
            "y  \n",
            "no     0.883015\n",
            "yes    0.116985\n",
            "Name: proportion, dtype: float64\n"
          ]
        }
      ]
    },
    {
      "cell_type": "code",
      "source": [
        "###missing values handling\n",
        "\n",
        "##checking missing value percentages\n",
        "def missing_values_summarizer(df):\n",
        "        mis_val=df.isnull().sum()\n",
        "        mis_val_percentage=100*mis_val/len(df)\n",
        "        mis_val_table=pd.concat([mis_val,mis_val_percentage],axis=1)\n",
        "        mis_val_summary=mis_val_table.rename(columns={0:'Missing values',1:'percentage'})\n",
        "\n",
        "        return mis_val_summary\n",
        "\n",
        "print(missing_values_summarizer(X))"
      ],
      "metadata": {
        "id": "320vRPnFBkdI",
        "outputId": "ea77f98b-908f-420b-c2d7-a35ed4db9d82",
        "colab": {
          "base_uri": "https://localhost:8080/"
        }
      },
      "execution_count": 4,
      "outputs": [
        {
          "output_type": "stream",
          "name": "stdout",
          "text": [
            "             Missing values  percentage\n",
            "age                       0    0.000000\n",
            "job                     288    0.637013\n",
            "marital                   0    0.000000\n",
            "education              1857    4.107407\n",
            "default                   0    0.000000\n",
            "balance                   0    0.000000\n",
            "housing                   0    0.000000\n",
            "loan                      0    0.000000\n",
            "contact               13020   28.798301\n",
            "day_of_week               0    0.000000\n",
            "month                     0    0.000000\n",
            "duration                  0    0.000000\n",
            "campaign                  0    0.000000\n",
            "pdays                     0    0.000000\n",
            "previous                  0    0.000000\n",
            "poutcome              36959   81.747805\n"
          ]
        }
      ]
    }
  ],
  "metadata": {
    "kernelspec": {
      "display_name": ".venv",
      "language": "python",
      "name": "python3"
    },
    "language_info": {
      "codemirror_mode": {
        "name": "ipython",
        "version": 3
      },
      "file_extension": ".py",
      "mimetype": "text/x-python",
      "name": "python",
      "nbconvert_exporter": "python",
      "pygments_lexer": "ipython3",
      "version": "3.13.0"
    },
    "colab": {
      "provenance": []
    }
  },
  "nbformat": 4,
  "nbformat_minor": 0
}