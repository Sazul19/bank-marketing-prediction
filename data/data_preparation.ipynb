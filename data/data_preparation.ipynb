{
 "cells": [
  {
   "cell_type": "code",
   "execution_count": 1,
   "metadata": {},
   "outputs": [
    {
     "name": "stdout",
     "output_type": "stream",
     "text": [
      "Collecting ucimlrepo\n",
      "  Downloading ucimlrepo-0.0.7-py3-none-any.whl.metadata (5.5 kB)\n",
      "Collecting pandas>=1.0.0 (from ucimlrepo)\n",
      "  Downloading pandas-2.2.3-cp313-cp313-win_amd64.whl.metadata (19 kB)\n",
      "Collecting certifi>=2020.12.5 (from ucimlrepo)\n",
      "  Downloading certifi-2024.12.14-py3-none-any.whl.metadata (2.3 kB)\n",
      "Collecting numpy>=1.26.0 (from pandas>=1.0.0->ucimlrepo)\n",
      "  Downloading numpy-2.2.0-cp313-cp313-win_amd64.whl.metadata (60 kB)\n",
      "Requirement already satisfied: python-dateutil>=2.8.2 in h:\\2nd year\\machine learning\\bank-marketing-prediction\\.venv\\lib\\site-packages (from pandas>=1.0.0->ucimlrepo) (2.9.0.post0)\n",
      "Collecting pytz>=2020.1 (from pandas>=1.0.0->ucimlrepo)\n",
      "  Using cached pytz-2024.2-py2.py3-none-any.whl.metadata (22 kB)\n",
      "Collecting tzdata>=2022.7 (from pandas>=1.0.0->ucimlrepo)\n",
      "  Downloading tzdata-2024.2-py2.py3-none-any.whl.metadata (1.4 kB)\n",
      "Requirement already satisfied: six>=1.5 in h:\\2nd year\\machine learning\\bank-marketing-prediction\\.venv\\lib\\site-packages (from python-dateutil>=2.8.2->pandas>=1.0.0->ucimlrepo) (1.17.0)\n",
      "Downloading ucimlrepo-0.0.7-py3-none-any.whl (8.0 kB)\n",
      "Downloading certifi-2024.12.14-py3-none-any.whl (164 kB)\n",
      "Downloading pandas-2.2.3-cp313-cp313-win_amd64.whl (11.5 MB)\n",
      "   ---------------------------------------- 0.0/11.5 MB ? eta -:--:--\n",
      "   -- ------------------------------------- 0.8/11.5 MB 5.3 MB/s eta 0:00:03\n",
      "   ------ --------------------------------- 1.8/11.5 MB 5.3 MB/s eta 0:00:02\n",
      "   ---------- ----------------------------- 3.1/11.5 MB 5.2 MB/s eta 0:00:02\n",
      "   -------------- ------------------------- 4.2/11.5 MB 5.4 MB/s eta 0:00:02\n",
      "   ------------------- -------------------- 5.5/11.5 MB 5.6 MB/s eta 0:00:02\n",
      "   ---------------------- ----------------- 6.6/11.5 MB 5.7 MB/s eta 0:00:01\n",
      "   --------------------------- ------------ 7.9/11.5 MB 5.6 MB/s eta 0:00:01\n",
      "   ------------------------------- -------- 8.9/11.5 MB 5.5 MB/s eta 0:00:01\n",
      "   ----------------------------------- ---- 10.2/11.5 MB 5.6 MB/s eta 0:00:01\n",
      "   ---------------------------------------  11.3/11.5 MB 5.7 MB/s eta 0:00:01\n",
      "   ---------------------------------------- 11.5/11.5 MB 5.6 MB/s eta 0:00:00\n",
      "Downloading numpy-2.2.0-cp313-cp313-win_amd64.whl (12.6 MB)\n",
      "   ---------------------------------------- 0.0/12.6 MB ? eta -:--:--\n",
      "   --- ------------------------------------ 1.0/12.6 MB 5.5 MB/s eta 0:00:03\n",
      "   ----- ---------------------------------- 1.8/12.6 MB 4.9 MB/s eta 0:00:03\n",
      "   --------- ------------------------------ 2.9/12.6 MB 4.7 MB/s eta 0:00:03\n",
      "   ------------- -------------------------- 4.2/12.6 MB 5.2 MB/s eta 0:00:02\n",
      "   ------------- -------------------------- 4.2/12.6 MB 5.2 MB/s eta 0:00:02\n",
      "   ----------------- ---------------------- 5.5/12.6 MB 4.7 MB/s eta 0:00:02\n",
      "   ------------------- -------------------- 6.0/12.6 MB 4.6 MB/s eta 0:00:02\n",
      "   --------------------- ------------------ 6.8/12.6 MB 4.3 MB/s eta 0:00:02\n",
      "   ------------------------ --------------- 7.6/12.6 MB 4.1 MB/s eta 0:00:02\n",
      "   ------------------------- -------------- 8.1/12.6 MB 4.1 MB/s eta 0:00:02\n",
      "   --------------------------- ------------ 8.7/12.6 MB 4.0 MB/s eta 0:00:01\n",
      "   ----------------------------- ---------- 9.4/12.6 MB 3.9 MB/s eta 0:00:01\n",
      "   ------------------------------- -------- 10.0/12.6 MB 3.8 MB/s eta 0:00:01\n",
      "   ---------------------------------- ----- 10.7/12.6 MB 3.7 MB/s eta 0:00:01\n",
      "   ----------------------------------- ---- 11.3/12.6 MB 3.7 MB/s eta 0:00:01\n",
      "   -------------------------------------- - 12.1/12.6 MB 3.7 MB/s eta 0:00:01\n",
      "   ---------------------------------------  12.3/12.6 MB 3.7 MB/s eta 0:00:01\n",
      "   ---------------------------------------- 12.6/12.6 MB 3.5 MB/s eta 0:00:00\n",
      "Using cached pytz-2024.2-py2.py3-none-any.whl (508 kB)\n",
      "Downloading tzdata-2024.2-py2.py3-none-any.whl (346 kB)\n",
      "Installing collected packages: pytz, tzdata, numpy, certifi, pandas, ucimlrepo\n",
      "Successfully installed certifi-2024.12.14 numpy-2.2.0 pandas-2.2.3 pytz-2024.2 tzdata-2024.2 ucimlrepo-0.0.7\n",
      "Note: you may need to restart the kernel to use updated packages.\n"
     ]
    }
   ],
   "source": [
    "pip install ucimlrepo"
   ]
  }
 ],
 "metadata": {
  "kernelspec": {
   "display_name": ".venv",
   "language": "python",
   "name": "python3"
  },
  "language_info": {
   "codemirror_mode": {
    "name": "ipython",
    "version": 3
   },
   "file_extension": ".py",
   "mimetype": "text/x-python",
   "name": "python",
   "nbconvert_exporter": "python",
   "pygments_lexer": "ipython3",
   "version": "3.13.0"
  }
 },
 "nbformat": 4,
 "nbformat_minor": 2
}
