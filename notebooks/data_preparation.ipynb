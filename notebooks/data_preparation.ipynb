{
  "cells": [
    {
      "cell_type": "markdown",
      "metadata": {
        "id": "view-in-github",
        "colab_type": "text"
      },
      "source": [
        "<a href=\"https://colab.research.google.com/github/Sazul19/bank-marketing-prediction/blob/Data-preperation/notebooks/data_preparation.ipynb\" target=\"_parent\"><img src=\"https://colab.research.google.com/assets/colab-badge.svg\" alt=\"Open In Colab\"/></a>"
      ]
    },
    {
      "cell_type": "code",
      "source": [
        "!pip install ucimlrepo\n",
        "\n",
        "## Import libraries\n",
        "\n",
        "import pandas as pd\n",
        "from ucimlrepo import fetch_ucirepo\n",
        "import seaborn as sns\n",
        "import matplotlib.pyplot as plt\n",
        "import numpy as np\n",
        "import seaborn as sns\n",
        "from sklearn.preprocessing import OrdinalEncoder\n",
        "from sklearn.model_selection import train_test_split\n",
        "from imblearn.combine import SMOTETomek\n",
        "\n",
        "\n"
      ],
      "metadata": {
        "colab": {
          "base_uri": "https://localhost:8080/"
        },
        "id": "EVOXTSgXn9cP",
        "outputId": "71095634-688e-493e-cd89-be14f6443704"
      },
      "execution_count": 10,
      "outputs": [
        {
          "output_type": "stream",
          "name": "stdout",
          "text": [
            "Requirement already satisfied: ucimlrepo in /usr/local/lib/python3.10/dist-packages (0.0.7)\n",
            "Requirement already satisfied: pandas>=1.0.0 in /usr/local/lib/python3.10/dist-packages (from ucimlrepo) (2.2.2)\n",
            "Requirement already satisfied: certifi>=2020.12.5 in /usr/local/lib/python3.10/dist-packages (from ucimlrepo) (2024.12.14)\n",
            "Requirement already satisfied: numpy>=1.22.4 in /usr/local/lib/python3.10/dist-packages (from pandas>=1.0.0->ucimlrepo) (1.26.4)\n",
            "Requirement already satisfied: python-dateutil>=2.8.2 in /usr/local/lib/python3.10/dist-packages (from pandas>=1.0.0->ucimlrepo) (2.8.2)\n",
            "Requirement already satisfied: pytz>=2020.1 in /usr/local/lib/python3.10/dist-packages (from pandas>=1.0.0->ucimlrepo) (2024.2)\n",
            "Requirement already satisfied: tzdata>=2022.7 in /usr/local/lib/python3.10/dist-packages (from pandas>=1.0.0->ucimlrepo) (2024.2)\n",
            "Requirement already satisfied: six>=1.5 in /usr/local/lib/python3.10/dist-packages (from python-dateutil>=2.8.2->pandas>=1.0.0->ucimlrepo) (1.17.0)\n"
          ]
        }
      ]
    },
    {
      "cell_type": "code",
      "source": [
        "\n",
        "\n",
        "# fetch dataset\n",
        "bank_marketing = fetch_ucirepo(id=222)\n",
        "\n",
        "# data (as pandas dataframes)\n",
        "X = bank_marketing.data.features\n",
        "y = bank_marketing.data.targets\n",
        "# Combine features (X) and target (y) into one DataFrame\n",
        "df = X.copy()\n",
        "df['y'] = y\n",
        "\n",
        "\n",
        "#categorical columns\n",
        "categorical_columns=X.select_dtypes(include=['object']).columns.tolist()\n",
        "print(categorical_columns)\n",
        "\n",
        "#numerical columns\n",
        "numerical_columns=X.select_dtypes(include=['int64']).columns.tolist()\n",
        "print(numerical_columns)\n",
        "\n"
      ],
      "metadata": {
        "colab": {
          "base_uri": "https://localhost:8080/"
        },
        "id": "QBmPILj3pw0g",
        "outputId": "79fe475e-af79-4ccf-b23c-127ebb8d3613"
      },
      "execution_count": 11,
      "outputs": [
        {
          "output_type": "stream",
          "name": "stdout",
          "text": [
            "['job', 'marital', 'education', 'default', 'housing', 'loan', 'contact', 'month', 'poutcome']\n",
            "['age', 'balance', 'day_of_week', 'duration', 'campaign', 'pdays', 'previous']\n"
          ]
        }
      ]
    },
    {
      "cell_type": "markdown",
      "source": [
        "#Handle Missing Values"
      ],
      "metadata": {
        "id": "L_KvtTMgV7xQ"
      }
    },
    {
      "cell_type": "code",
      "source": [
        "#Handling missing values\n",
        "\n",
        "#job\n",
        "df['job'] = df['job'].fillna('unknown')\n",
        "\n",
        "#education\n",
        "df['education'] = df['education'].fillna('unknown')\n",
        "\n",
        "#contact\n",
        "df['contact'] = df['contact'].fillna('unknown')\n",
        "\n",
        "#poutcome\n",
        "df['poutcome'] = df['poutcome'].fillna('unknown')"
      ],
      "metadata": {
        "id": "iars6GNLp45y"
      },
      "execution_count": 12,
      "outputs": []
    },
    {
      "cell_type": "markdown",
      "source": [
        "#Drop Columns"
      ],
      "metadata": {
        "id": "miRfseEp2y2D"
      }
    },
    {
      "cell_type": "code",
      "source": [
        "from sklearn.preprocessing import StandardScaler\n",
        "# Drop 'duration' for realistic modeling\n",
        "df= df.drop(columns=['day_of_week','contact'])\n",
        "\n",
        "# Process 'pdays'\n",
        "df['pdays_flag'] = (df['pdays'] == -1).astype(int)\n",
        "df['pdays'] = df['pdays'].replace(-1, 0)\n",
        "\n",
        "scaler = StandardScaler()\n",
        "df[['campaign', 'previous']] = scaler.fit_transform(df[['campaign', 'previous']])\n"
      ],
      "metadata": {
        "id": "sYHwZbZi25GY"
      },
      "execution_count": 14,
      "outputs": []
    },
    {
      "cell_type": "markdown",
      "source": [
        "#Outliers Handling"
      ],
      "metadata": {
        "id": "zSOZD5fAP0SQ"
      }
    },
    {
      "cell_type": "code",
      "source": [
        "\n",
        "# Outlier thresholds\n",
        "thresholds = {\n",
        "\n",
        "\n",
        "    'campaign': {'lower': 0, 'upper': 6},\n",
        "    'pdays': {'lower': -1, 'upper': -1},  # Special case\n",
        "    'previous': {'lower': 0, 'upper': 0},  # Special case\n",
        "}\n",
        "\n",
        "# Function to handle outliers\n",
        "def handle_outliers(df, thresholds, method=\"cap\"):\n",
        "    \"\"\"\n",
        "    Handles outliers by capping or removing based on thresholds.\n",
        "\n",
        "    Args:\n",
        "        df (pd.DataFrame): The dataset.\n",
        "        thresholds (dict): Dictionary of thresholds for each column.\n",
        "        method (str): \"cap\" or \"remove\".\n",
        "\n",
        "    Returns:\n",
        "        pd.DataFrame: Updated dataset.\n",
        "        dict: Summary of outliers handled.\n",
        "    \"\"\"\n",
        "    df = df.copy()\n",
        "    summary = {}\n",
        "\n",
        "    for column, bounds in thresholds.items():\n",
        "        lower, upper = bounds['lower'], bounds['upper']\n",
        "        if column in df.columns:\n",
        "            if method == \"cap\":\n",
        "                # Cap the outliers\n",
        "                num_capped_lower = (df[column] < lower).sum()\n",
        "                num_capped_upper = (df[column] > upper).sum()\n",
        "                df[column] = np.where(df[column] < lower, lower, df[column])\n",
        "                df[column] = np.where(df[column] > upper, upper, df[column])\n",
        "                summary[column] = {'capped_lower': num_capped_lower, 'capped_upper': num_capped_upper}\n",
        "            elif method == \"remove\":\n",
        "                # Remove rows with outliers\n",
        "                num_removed = ((df[column] < lower) | (df[column] > upper)).sum()\n",
        "                df = df[(df[column] >= lower) & (df[column] <= upper)]\n",
        "                summary[column] = {'removed': num_removed}\n",
        "            else:\n",
        "                raise ValueError(f\"Invalid method '{method}'. Use 'cap' or 'remove'.\")\n",
        "    return df, summary\n",
        "\n",
        "\n",
        "# Visualize before handling\n",
        "print(\"Before Handling Outliers:\")\n",
        "print(df)\n",
        "\n",
        "# Handle outliers (choose 'cap' or 'remove')\n",
        "df_cleaned = handle_outliers(df, thresholds, method=\"cap\")\n",
        "\n",
        "# Visualize after handling\n",
        "print(\"\\nAfter Handling Outliers (Capping):\")\n",
        "print(df_cleaned)\n",
        "\n",
        "\n",
        "\n",
        "# Visualize boxplots for numerical columns\n",
        "numeric_cols = ['age', 'balance', 'duration', 'campaign']\n",
        "\n"
      ],
      "metadata": {
        "id": "yuoowzQ9P586",
        "colab": {
          "base_uri": "https://localhost:8080/"
        },
        "outputId": "d2656ddd-250d-4a29-aa31-e400e869d084"
      },
      "execution_count": 17,
      "outputs": [
        {
          "output_type": "stream",
          "name": "stdout",
          "text": [
            "Before Handling Outliers:\n",
            "       age           job   marital  education default  balance housing loan  \\\n",
            "0       58    management   married   tertiary      no     2143     yes   no   \n",
            "1       44    technician    single  secondary      no       29     yes   no   \n",
            "2       33  entrepreneur   married  secondary      no        2     yes  yes   \n",
            "3       47   blue-collar   married    unknown      no     1506     yes   no   \n",
            "4       33       unknown    single    unknown      no        1      no   no   \n",
            "...    ...           ...       ...        ...     ...      ...     ...  ...   \n",
            "45206   51    technician   married   tertiary      no      825      no   no   \n",
            "45207   71       retired  divorced    primary      no     1729      no   no   \n",
            "45208   72       retired   married  secondary      no     5715      no   no   \n",
            "45209   57   blue-collar   married  secondary      no      668      no   no   \n",
            "45210   37  entrepreneur   married  secondary      no     2971      no   no   \n",
            "\n",
            "      month  duration  campaign  pdays  previous poutcome    y  pdays_flag  \n",
            "0       may       261 -0.569351      0 -0.251940  unknown   no           1  \n",
            "1       may       151 -0.569351      0 -0.251940  unknown   no           1  \n",
            "2       may        76 -0.569351      0 -0.251940  unknown   no           1  \n",
            "3       may        92 -0.569351      0 -0.251940  unknown   no           1  \n",
            "4       may       198 -0.569351      0 -0.251940  unknown   no           1  \n",
            "...     ...       ...       ...    ...       ...      ...  ...         ...  \n",
            "45206   nov       977  0.076230      0 -0.251940  unknown  yes           1  \n",
            "45207   nov       456 -0.246560      0 -0.251940  unknown  yes           1  \n",
            "45208   nov      1127  0.721811    184  1.050473  success  yes           0  \n",
            "45209   nov       508  0.399020      0 -0.251940  unknown   no           1  \n",
            "45210   nov       361 -0.246560    188  4.523577    other   no           0  \n",
            "\n",
            "[45211 rows x 16 columns]\n",
            "\n",
            "After Handling Outliers (Capping):\n",
            "(       age           job   marital  education default  balance housing loan  \\\n",
            "0       58    management   married   tertiary      no     2143     yes   no   \n",
            "1       44    technician    single  secondary      no       29     yes   no   \n",
            "2       33  entrepreneur   married  secondary      no        2     yes  yes   \n",
            "3       47   blue-collar   married    unknown      no     1506     yes   no   \n",
            "4       33       unknown    single    unknown      no        1      no   no   \n",
            "...    ...           ...       ...        ...     ...      ...     ...  ...   \n",
            "45206   51    technician   married   tertiary      no      825      no   no   \n",
            "45207   71       retired  divorced    primary      no     1729      no   no   \n",
            "45208   72       retired   married  secondary      no     5715      no   no   \n",
            "45209   57   blue-collar   married  secondary      no      668      no   no   \n",
            "45210   37  entrepreneur   married  secondary      no     2971      no   no   \n",
            "\n",
            "      month  duration  campaign  pdays  previous poutcome    y  pdays_flag  \n",
            "0       may       261  0.000000     -1       0.0  unknown   no           1  \n",
            "1       may       151  0.000000     -1       0.0  unknown   no           1  \n",
            "2       may        76  0.000000     -1       0.0  unknown   no           1  \n",
            "3       may        92  0.000000     -1       0.0  unknown   no           1  \n",
            "4       may       198  0.000000     -1       0.0  unknown   no           1  \n",
            "...     ...       ...       ...    ...       ...      ...  ...         ...  \n",
            "45206   nov       977  0.076230     -1       0.0  unknown  yes           1  \n",
            "45207   nov       456  0.000000     -1       0.0  unknown  yes           1  \n",
            "45208   nov      1127  0.721811     -1       0.0  success  yes           0  \n",
            "45209   nov       508  0.399020     -1       0.0  unknown   no           1  \n",
            "45210   nov       361  0.000000     -1       0.0    other   no           0  \n",
            "\n",
            "[45211 rows x 16 columns], {'campaign': {'capped_lower': 30049, 'capped_upper': 209}, 'pdays': {'capped_lower': 0, 'capped_upper': 45211}, 'previous': {'capped_lower': 36954, 'capped_upper': 8257}})\n"
          ]
        }
      ]
    },
    {
      "cell_type": "markdown",
      "source": [
        "#Encoding Categorocal Variables\n"
      ],
      "metadata": {
        "id": "K1MnEwDZsYdy"
      }
    },
    {
      "cell_type": "code",
      "source": [
        "\n",
        "def encode_features(df):\n",
        "    \"\"\"\n",
        "    Encodes categorical features in the DataFrame using different encoding strategies.\n",
        "\n",
        "    Parameters:\n",
        "        df (pd.DataFrame): The input DataFrame containing categorical features.\n",
        "\n",
        "    Returns:\n",
        "        pd.DataFrame: The DataFrame with encoded features.\n",
        "    \"\"\"\n",
        "    # 1. One-Hot Encoding for high/moderate cardinality nominal features\n",
        "    one_hot_features = ['job', 'marital', 'education','contact', 'month','day_of_week' ,'poutcome','education']\n",
        "    df_one_hot = pd.get_dummies(df[one_hot_features], drop_first=True)\n",
        "\n",
        "\n",
        "\n",
        "    # 3. Binary Encoding for binary features\n",
        "    binary_features = ['default', 'housing', 'loan']\n",
        "    for feature in binary_features:\n",
        "        df[feature + '_encoded'] = df[feature].map({'no': 0, 'yes': 1})\n",
        "\n",
        "    # Combine all encoded features\n",
        "    df_encoded = pd.concat([df.drop(columns=one_hot_features + binary_features), df_one_hot], axis=1)\n",
        "\n",
        "    return df_encoded\n",
        "\n",
        "\n",
        "\n",
        "\n",
        "# Call the function\n",
        "df_encoded = encode_features(df)\n",
        "\n",
        "# Display the final encoded dataset\n",
        "print(df_encoded.head())"
      ],
      "metadata": {
        "colab": {
          "base_uri": "https://localhost:8080/"
        },
        "id": "SxzjoTALuSh1",
        "outputId": "fb885c8f-ee07-45fc-e926-942fff3e3f81"
      },
      "execution_count": 4,
      "outputs": [
        {
          "output_type": "stream",
          "name": "stdout",
          "text": [
            "   age  balance  duration  campaign  pdays  previous   y  default_encoded  \\\n",
            "0   58     2143       261         1     -1         0  no                0   \n",
            "1   44       29       151         1     -1         0  no                0   \n",
            "2   33        2        76         1     -1         0  no                0   \n",
            "3   47     1506        92         1     -1         0  no                0   \n",
            "4   33        1       198         1     -1         0  no                0   \n",
            "\n",
            "   housing_encoded  loan_encoded  ...  month_may  month_nov  month_oct  \\\n",
            "0                1             0  ...       True      False      False   \n",
            "1                1             0  ...       True      False      False   \n",
            "2                1             1  ...       True      False      False   \n",
            "3                1             0  ...       True      False      False   \n",
            "4                0             0  ...       True      False      False   \n",
            "\n",
            "   month_sep  poutcome_other  poutcome_success  poutcome_unknown  \\\n",
            "0      False           False             False              True   \n",
            "1      False           False             False              True   \n",
            "2      False           False             False              True   \n",
            "3      False           False             False              True   \n",
            "4      False           False             False              True   \n",
            "\n",
            "   education_secondary  education_tertiary  education_unknown  \n",
            "0                False                True              False  \n",
            "1                 True               False              False  \n",
            "2                 True               False              False  \n",
            "3                False               False               True  \n",
            "4                False               False               True  \n",
            "\n",
            "[5 rows x 46 columns]\n"
          ]
        }
      ]
    },
    {
      "cell_type": "markdown",
      "source": [
        "#Splitting and Balancing"
      ],
      "metadata": {
        "id": "xTzVXhV8Adcw"
      }
    },
    {
      "cell_type": "code",
      "source": [
        "\n",
        "def split_features_and_target(df, target_column):\n",
        "    \"\"\"\n",
        "    Splits the DataFrame into features and target variable.\n",
        "\n",
        "    Parameters:\n",
        "        df (pd.DataFrame): The input DataFrame.\n",
        "        target_column (str): The name of the target column.\n",
        "\n",
        "    Returns:\n",
        "        X (pd.DataFrame): Features.\n",
        "        y (pd.Series): Target variable.\n",
        "    \"\"\"\n",
        "    X = df.drop(columns=[target_column])\n",
        "    y = df[target_column].map({'no': 0, 'yes': 1})\n",
        "\n",
        "    # Save the initial split data\n",
        "    X.to_csv(\"X_initial.csv\", index=False)\n",
        "    y.to_csv(\"y_initial.csv\", index=False)\n",
        "    print(\"Initial features and target saved as CSV.\")\n",
        "\n",
        "    return X, y\n",
        "\n"
      ],
      "metadata": {
        "id": "0O6jvg5NAgE0"
      },
      "execution_count": null,
      "outputs": []
    },
    {
      "cell_type": "code",
      "source": [
        "def train_test_split_stratified(X, y, test_size=0.2, random_state=42):\n",
        "    \"\"\"\n",
        "    Splits the data into training and testing sets using stratified sampling.\n",
        "\n",
        "    Parameters:\n",
        "        X (pd.DataFrame): Features.\n",
        "        y (pd.Series): Target variable.\n",
        "        test_size (float): Proportion of the dataset to include in the test split.\n",
        "        random_state (int): Random seed for reproducibility.\n",
        "\n",
        "    Returns:\n",
        "        X_train, X_test, y_train, y_test: Split datasets.\n",
        "    \"\"\"\n",
        "    X_train, X_test, y_train, y_test = train_test_split(X, y, test_size=test_size, random_state=random_state, stratify=y)\n",
        "\n",
        "    # Save train-test split data\n",
        "    X_train.to_csv(\"X_train.csv\", index=False)\n",
        "    X_test.to_csv(\"X_test.csv\", index=False)\n",
        "    y_train.to_csv(\"y_train.csv\", index=False)\n",
        "    y_test.to_csv(\"y_test.csv\", index=False)\n",
        "    print(\"Train-test split data saved as CSV.\")\n",
        "\n",
        "    return X_train, X_test, y_train, y_test\n",
        "\n",
        "\n"
      ],
      "metadata": {
        "id": "Gmrec1J_AjUN"
      },
      "execution_count": null,
      "outputs": []
    },
    {
      "cell_type": "code",
      "source": [
        "def apply_smote_tomek(X_train, y_train):\n",
        "    \"\"\"\n",
        "    Applies SMOTE + Tomek Links to the training data to handle class imbalance.\n",
        "\n",
        "    Parameters:\n",
        "        X_train (pd.DataFrame): Training features.\n",
        "        y_train (pd.Series): Training target variable.\n",
        "\n",
        "    Returns:\n",
        "        X_train_resampled, y_train_resampled: Resampled datasets.\n",
        "    \"\"\"\n",
        "    smote_tomek = SMOTETomek(random_state=42)\n",
        "    X_train_resampled, y_train_resampled = smote_tomek.fit_resample(X_train, y_train)\n",
        "\n",
        "    # Save resampled data\n",
        "    X_train_resampled.to_csv(\"X_train_resampled.csv\", index=False)\n",
        "    y_train_resampled.to_csv(\"y_train_resampled.csv\", index=False)\n",
        "    print(\"Resampled training data saved as CSV.\")\n",
        "\n",
        "    return X_train_resampled, y_train_resampled"
      ],
      "metadata": {
        "id": "jP-hXVeqAlj0"
      },
      "execution_count": null,
      "outputs": []
    },
    {
      "cell_type": "code",
      "source": [
        "\n",
        "X, y = split_features_and_target(df_encoded, target_column=\"y\")\n",
        "X_train, X_test, y_train, y_test = train_test_split_stratified(X, y)\n",
        "X_train_resampled, y_train_resampled = apply_smote_tomek(X_train, y_train)\n"
      ],
      "metadata": {
        "id": "G4PzHNxmArnL"
      },
      "execution_count": null,
      "outputs": []
    }
  ],
  "metadata": {
    "colab": {
      "provenance": [],
      "toc_visible": true,
      "include_colab_link": true
    },
    "kernelspec": {
      "display_name": ".venv",
      "language": "python",
      "name": "python3"
    },
    "language_info": {
      "codemirror_mode": {
        "name": "ipython",
        "version": 3
      },
      "file_extension": ".py",
      "mimetype": "text/x-python",
      "name": "python",
      "nbconvert_exporter": "python",
      "pygments_lexer": "ipython3",
      "version": "3.13.0"
    }
  },
  "nbformat": 4,
  "nbformat_minor": 0
}