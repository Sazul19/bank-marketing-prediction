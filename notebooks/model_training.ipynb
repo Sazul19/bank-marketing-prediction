{
  "cells": [
    {
      "cell_type": "markdown",
      "metadata": {
        "id": "9w-YIo4YhKKJ"
      },
      "source": [
        "#Model Training"
      ]
    },
    {
      "cell_type": "code",
      "source": [
        "# General Libraries\n",
        "import numpy as np\n",
        "import pandas as pd\n",
        "import tensorflow as tf\n",
        "import matplotlib.pyplot as plt\n",
        "from sklearn.model_selection import train_test_split, cross_val_score, GridSearchCV\n",
        "from sklearn.preprocessing import StandardScaler\n",
        "from sklearn.metrics import (accuracy_score, precision_score, recall_score,\n",
        "                             f1_score, roc_auc_score, roc_curve, ConfusionMatrixDisplay)\n",
        "from imblearn.combine import SMOTETomek\n",
        "\n",
        "\n",
        "# Machine Learning Models\n",
        "from sklearn.ensemble import RandomForestClassifier\n",
        "from tensorflow.keras.models import Sequential\n",
        "from tensorflow.keras.layers import Dense, Dropout\n",
        "from tensorflow.keras.callbacks import EarlyStopping\n",
        "from tensorflow.keras.regularizers import l2\n"
      ],
      "metadata": {
        "id": "8_Du_HrfhSMa"
      },
      "execution_count": 105,
      "outputs": []
    },
    {
      "cell_type": "code",
      "source": [
        "\n",
        "\n",
        "# Load the initial features and target\n",
        "X = pd.read_csv(\"/content/X_initial.csv\")\n",
        "y = pd.read_csv(\"/content/y_initial.csv\").squeeze()  # Convert to Series for compatibility\n",
        "\n",
        "# Load the train-test split data\n",
        "X_train = pd.read_csv(\"/content/X_train.csv\")\n",
        "X_test = pd.read_csv(\"/content/X_test.csv\")\n",
        "y_train = pd.read_csv(\"/content/y_train.csv\").squeeze()  # Convert to Series\n",
        "y_test = pd.read_csv(\"/content/y_test.csv\").squeeze()    # Convert to Series\n",
        "\n",
        "# Load the resampled training data\n",
        "X_train_resampled = pd.read_csv(\"/content/X_train_resampled.csv\")\n",
        "y_train_resampled = pd.read_csv(\"/content/y_train_resampled.csv\").squeeze()  # Convert to Series\n",
        "\n",
        "# Verify data loading\n",
        "print(\"Initial features and target shapes:\")\n",
        "print(f\"X: {X.shape}, y: {y.shape}\")\n",
        "\n",
        "print(\"\\nTrain-test split shapes:\")\n",
        "print(f\"X_train: {X_train.shape}, X_test: {X_test.shape}\")\n",
        "print(f\"y_train: {y_train.shape}, y_test: {y_test.shape}\")\n",
        "\n",
        "print(\"\\nResampled training data shapes:\")\n",
        "print(f\"X_train_resampled: {X_train_resampled.shape}, y_train_resampled: {y_train_resampled.shape}\")\n"
      ],
      "metadata": {
        "colab": {
          "base_uri": "https://localhost:8080/"
        },
        "id": "CR4Z5Gkbl1uN",
        "outputId": "aefa3980-3cc1-4608-b664-277dea6845cd"
      },
      "execution_count": 5,
      "outputs": [
        {
          "output_type": "stream",
          "name": "stdout",
          "text": [
            "Initial features and target shapes:\n",
            "X: (45211, 45), y: (45211,)\n",
            "\n",
            "Train-test split shapes:\n",
            "X_train: (36168, 45), X_test: (9043, 45)\n",
            "y_train: (36168,), y_test: (9043,)\n",
            "\n",
            "Resampled training data shapes:\n",
            "X_train_resampled: (62164, 45), y_train_resampled: (62164,)\n"
          ]
        }
      ]
    },
    {
      "cell_type": "markdown",
      "source": [
        "##NN"
      ],
      "metadata": {
        "id": "hn99U_IZheka"
      }
    },
    {
      "cell_type": "code",
      "source": [
        "\n",
        "def build_and_train_neural_network(X_train, y_train):\n",
        "    \"\"\"\n",
        "    Builds and trains a Neural Network.\n",
        "\n",
        "    Parameters:\n",
        "        X_train (pd.DataFrame): Training features.\n",
        "        y_train (pd.Series): Training target variable.\n",
        "\n",
        "    Returns:\n",
        "        nn_model: Trained Neural Network model.\n",
        "        scaler: Fitted StandardScaler instance.\n",
        "    \"\"\"\n",
        "    # Scale features for Neural Network\n",
        "    scaler = StandardScaler()\n",
        "    X_train_scaled = scaler.fit_transform(X_train)\n",
        "\n",
        "    # Build Neural Network\n",
        "    nn_model = Sequential([\n",
        "        Dense(192, activation='relu', input_shape=(X_train_scaled.shape[1],)),\n",
        "        Dropout(0.2),\n",
        "        Dense(128, activation='relu'),\n",
        "        Dropout(0.2),\n",
        "        Dense(1, activation='sigmoid')\n",
        "    ])\n",
        "    def focal_loss(alpha=0.25, gamma=2.0):\n",
        "      def loss(y_true, y_pred):\n",
        "        binary_crossentropy = tf.keras.losses.binary_crossentropy(y_true, y_pred)\n",
        "        pt = tf.where(tf.equal(y_true, 1), y_pred, 1 - y_pred)\n",
        "        return tf.reduce_mean(alpha * tf.pow(1. - pt, gamma) * binary_crossentropy)\n",
        "      return loss\n",
        "    # Compile the Neural Network\n",
        "    nn_model.compile(optimizer='adam', loss=focal_loss(alpha=0.25, gamma=2.0), metrics=['accuracy'])\n",
        "    class_weights =   {0:1.0, 1:8}\n",
        "\n",
        "    # Train the Neural Network\n",
        "\n",
        "    early_stopping = EarlyStopping(monitor='val_loss', patience=5, restore_best_weights=True)\n",
        "    history = nn_model.fit(X_train_scaled, y_train, validation_split=0.2,\n",
        "                            epochs=50,\n",
        "                        batch_size=64,\n",
        "                        class_weight=class_weights,\n",
        "                            callbacks=[early_stopping])\n",
        "\n",
        "\n",
        "    return nn_model, scaler"
      ],
      "metadata": {
        "id": "T_BTFhWDhcSi"
      },
      "execution_count": 134,
      "outputs": []
    },
    {
      "cell_type": "code",
      "source": [
        "\n",
        "nn_model, scaler = build_and_train_neural_network(X_train, y_train)\n",
        "\n",
        "from sklearn.metrics import classification_report, roc_auc_score\n",
        "import numpy as np\n",
        "\n",
        "# Scale the test set using the fitted scaler\n",
        "X_test_scaled = scaler.transform(X_test)\n",
        "\n",
        "# Predict probabilities for the test set\n",
        "y_prob = nn_model.predict(X_test_scaled)\n",
        "\n",
        "# Thresholds to test\n",
        "thresholds_to_test = [0.3]\n",
        "\n",
        "for threshold in thresholds_to_test:\n",
        "    # Adjust predictions based on the threshold\n",
        "    y_pred_adjusted = (y_prob > threshold).astype(\"int32\")\n",
        "\n",
        "    print(f\"\\nThreshold: {threshold}\")\n",
        "\n",
        "    # Evaluate the model\n",
        "    print(\"Classification Report:\")\n",
        "    print(classification_report(y_test, y_pred_adjusted))\n",
        "\n",
        "    # Calculate and print the ROC-AUC score\n",
        "    roc_auc = roc_auc_score(y_test, y_prob)\n",
        "    print(\"ROC-AUC Score:\", roc_auc)\n",
        "\n",
        "\n",
        "from sklearn.metrics import precision_recall_curve\n",
        "import matplotlib.pyplot as plt\n",
        "\n",
        "# Get probabilities and compute precision-recall curve\n",
        "precisions, recalls, thresholds = precision_recall_curve(y_test, y_prob)\n",
        "\n",
        "# Plot the curve\n",
        "plt.plot(recalls, precisions, label='Precision-Recall Curve')\n",
        "plt.xlabel('Recall')\n",
        "plt.ylabel('Precision')\n",
        "plt.title('Precision-Recall Tradeoff')\n",
        "plt.legend()\n",
        "plt.show()\n",
        "\n",
        "# Identify threshold for balanced precision and recall\n",
        "f1_scores = 2 * (precisions * recalls) / (precisions + recalls)\n",
        "best_threshold = thresholds[np.argmax(f1_scores)]\n",
        "print(f\"Optimal Threshold for F1-Score: {best_threshold}\")\n",
        "\n",
        "\n"
      ],
      "metadata": {
        "colab": {
          "base_uri": "https://localhost:8080/",
          "height": 1000
        },
        "id": "T-w40ZS4iQph",
        "outputId": "9b90d1f8-33ab-4f5b-9a9f-4fd93b340efc"
      },
      "execution_count": 135,
      "outputs": [
        {
          "output_type": "stream",
          "name": "stderr",
          "text": [
            "/usr/local/lib/python3.10/dist-packages/keras/src/layers/core/dense.py:87: UserWarning: Do not pass an `input_shape`/`input_dim` argument to a layer. When using Sequential models, prefer using an `Input(shape)` object as the first layer in the model instead.\n",
            "  super().__init__(activity_regularizer=activity_regularizer, **kwargs)\n"
          ]
        },
        {
          "output_type": "stream",
          "name": "stdout",
          "text": [
            "Epoch 1/50\n",
            "\u001b[1m453/453\u001b[0m \u001b[32m━━━━━━━━━━━━━━━━━━━━\u001b[0m\u001b[37m\u001b[0m \u001b[1m4s\u001b[0m 6ms/step - accuracy: 0.8742 - loss: 0.0184 - val_accuracy: 0.9017 - val_loss: 0.0040\n",
            "Epoch 2/50\n",
            "\u001b[1m453/453\u001b[0m \u001b[32m━━━━━━━━━━━━━━━━━━━━\u001b[0m\u001b[37m\u001b[0m \u001b[1m2s\u001b[0m 5ms/step - accuracy: 0.8997 - loss: 0.0084 - val_accuracy: 0.9049 - val_loss: 0.0037\n",
            "Epoch 3/50\n",
            "\u001b[1m453/453\u001b[0m \u001b[32m━━━━━━━━━━━━━━━━━━━━\u001b[0m\u001b[37m\u001b[0m \u001b[1m3s\u001b[0m 6ms/step - accuracy: 0.9047 - loss: 0.0074 - val_accuracy: 0.9054 - val_loss: 0.0037\n",
            "Epoch 4/50\n",
            "\u001b[1m453/453\u001b[0m \u001b[32m━━━━━━━━━━━━━━━━━━━━\u001b[0m\u001b[37m\u001b[0m \u001b[1m4s\u001b[0m 5ms/step - accuracy: 0.9079 - loss: 0.0067 - val_accuracy: 0.9071 - val_loss: 0.0036\n",
            "Epoch 5/50\n",
            "\u001b[1m453/453\u001b[0m \u001b[32m━━━━━━━━━━━━━━━━━━━━\u001b[0m\u001b[37m\u001b[0m \u001b[1m2s\u001b[0m 4ms/step - accuracy: 0.9063 - loss: 0.0070 - val_accuracy: 0.9063 - val_loss: 0.0036\n",
            "Epoch 6/50\n",
            "\u001b[1m453/453\u001b[0m \u001b[32m━━━━━━━━━━━━━━━━━━━━\u001b[0m\u001b[37m\u001b[0m \u001b[1m2s\u001b[0m 5ms/step - accuracy: 0.9076 - loss: 0.0065 - val_accuracy: 0.9074 - val_loss: 0.0035\n",
            "Epoch 7/50\n",
            "\u001b[1m453/453\u001b[0m \u001b[32m━━━━━━━━━━━━━━━━━━━━\u001b[0m\u001b[37m\u001b[0m \u001b[1m3s\u001b[0m 5ms/step - accuracy: 0.9093 - loss: 0.0067 - val_accuracy: 0.9090 - val_loss: 0.0035\n",
            "Epoch 8/50\n",
            "\u001b[1m453/453\u001b[0m \u001b[32m━━━━━━━━━━━━━━━━━━━━\u001b[0m\u001b[37m\u001b[0m \u001b[1m4s\u001b[0m 7ms/step - accuracy: 0.9139 - loss: 0.0058 - val_accuracy: 0.9082 - val_loss: 0.0035\n",
            "Epoch 9/50\n",
            "\u001b[1m453/453\u001b[0m \u001b[32m━━━━━━━━━━━━━━━━━━━━\u001b[0m\u001b[37m\u001b[0m \u001b[1m2s\u001b[0m 5ms/step - accuracy: 0.9143 - loss: 0.0060 - val_accuracy: 0.9066 - val_loss: 0.0035\n",
            "Epoch 10/50\n",
            "\u001b[1m453/453\u001b[0m \u001b[32m━━━━━━━━━━━━━━━━━━━━\u001b[0m\u001b[37m\u001b[0m \u001b[1m2s\u001b[0m 4ms/step - accuracy: 0.9123 - loss: 0.0060 - val_accuracy: 0.9089 - val_loss: 0.0034\n",
            "Epoch 11/50\n",
            "\u001b[1m453/453\u001b[0m \u001b[32m━━━━━━━━━━━━━━━━━━━━\u001b[0m\u001b[37m\u001b[0m \u001b[1m2s\u001b[0m 5ms/step - accuracy: 0.9133 - loss: 0.0058 - val_accuracy: 0.9092 - val_loss: 0.0035\n",
            "Epoch 12/50\n",
            "\u001b[1m453/453\u001b[0m \u001b[32m━━━━━━━━━━━━━━━━━━━━\u001b[0m\u001b[37m\u001b[0m \u001b[1m2s\u001b[0m 4ms/step - accuracy: 0.9187 - loss: 0.0057 - val_accuracy: 0.9103 - val_loss: 0.0034\n",
            "Epoch 13/50\n",
            "\u001b[1m453/453\u001b[0m \u001b[32m━━━━━━━━━━━━━━━━━━━━\u001b[0m\u001b[37m\u001b[0m \u001b[1m3s\u001b[0m 6ms/step - accuracy: 0.9182 - loss: 0.0056 - val_accuracy: 0.9104 - val_loss: 0.0034\n",
            "Epoch 14/50\n",
            "\u001b[1m453/453\u001b[0m \u001b[32m━━━━━━━━━━━━━━━━━━━━\u001b[0m\u001b[37m\u001b[0m \u001b[1m3s\u001b[0m 7ms/step - accuracy: 0.9205 - loss: 0.0055 - val_accuracy: 0.9088 - val_loss: 0.0035\n",
            "Epoch 15/50\n",
            "\u001b[1m453/453\u001b[0m \u001b[32m━━━━━━━━━━━━━━━━━━━━\u001b[0m\u001b[37m\u001b[0m \u001b[1m2s\u001b[0m 4ms/step - accuracy: 0.9200 - loss: 0.0056 - val_accuracy: 0.9089 - val_loss: 0.0035\n",
            "Epoch 16/50\n",
            "\u001b[1m453/453\u001b[0m \u001b[32m━━━━━━━━━━━━━━━━━━━━\u001b[0m\u001b[37m\u001b[0m \u001b[1m3s\u001b[0m 5ms/step - accuracy: 0.9220 - loss: 0.0050 - val_accuracy: 0.9106 - val_loss: 0.0035\n",
            "Epoch 17/50\n",
            "\u001b[1m453/453\u001b[0m \u001b[32m━━━━━━━━━━━━━━━━━━━━\u001b[0m\u001b[37m\u001b[0m \u001b[1m3s\u001b[0m 5ms/step - accuracy: 0.9215 - loss: 0.0053 - val_accuracy: 0.9059 - val_loss: 0.0036\n",
            "Epoch 18/50\n",
            "\u001b[1m453/453\u001b[0m \u001b[32m━━━━━━━━━━━━━━━━━━━━\u001b[0m\u001b[37m\u001b[0m \u001b[1m3s\u001b[0m 6ms/step - accuracy: 0.9222 - loss: 0.0050 - val_accuracy: 0.9083 - val_loss: 0.0035\n",
            "\u001b[1m283/283\u001b[0m \u001b[32m━━━━━━━━━━━━━━━━━━━━\u001b[0m\u001b[37m\u001b[0m \u001b[1m3s\u001b[0m 10ms/step\n",
            "\n",
            "Threshold: 0.2\n",
            "Classification Report:\n",
            "              precision    recall  f1-score   support\n",
            "\n",
            "           0       0.97      0.87      0.92      7985\n",
            "           1       0.45      0.83      0.58      1058\n",
            "\n",
            "    accuracy                           0.86      9043\n",
            "   macro avg       0.71      0.85      0.75      9043\n",
            "weighted avg       0.91      0.86      0.88      9043\n",
            "\n",
            "ROC-AUC Score: 0.9245395134781306\n",
            "\n",
            "Threshold: 0.25\n",
            "Classification Report:\n",
            "              precision    recall  f1-score   support\n",
            "\n",
            "           0       0.97      0.89      0.93      7985\n",
            "           1       0.48      0.79      0.60      1058\n",
            "\n",
            "    accuracy                           0.88      9043\n",
            "   macro avg       0.73      0.84      0.76      9043\n",
            "weighted avg       0.91      0.88      0.89      9043\n",
            "\n",
            "ROC-AUC Score: 0.9245395134781306\n",
            "\n",
            "Threshold: 0.3\n",
            "Classification Report:\n",
            "              precision    recall  f1-score   support\n",
            "\n",
            "           0       0.96      0.91      0.94      7985\n",
            "           1       0.52      0.75      0.61      1058\n",
            "\n",
            "    accuracy                           0.89      9043\n",
            "   macro avg       0.74      0.83      0.77      9043\n",
            "weighted avg       0.91      0.89      0.90      9043\n",
            "\n",
            "ROC-AUC Score: 0.9245395134781306\n",
            "\n",
            "Threshold: 0.4\n",
            "Classification Report:\n",
            "              precision    recall  f1-score   support\n",
            "\n",
            "           0       0.95      0.94      0.94      7985\n",
            "           1       0.58      0.64      0.61      1058\n",
            "\n",
            "    accuracy                           0.90      9043\n",
            "   macro avg       0.76      0.79      0.77      9043\n",
            "weighted avg       0.91      0.90      0.90      9043\n",
            "\n",
            "ROC-AUC Score: 0.9245395134781306\n",
            "\n",
            "Threshold: 0.5\n",
            "Classification Report:\n",
            "              precision    recall  f1-score   support\n",
            "\n",
            "           0       0.94      0.96      0.95      7985\n",
            "           1       0.62      0.50      0.55      1058\n",
            "\n",
            "    accuracy                           0.91      9043\n",
            "   macro avg       0.78      0.73      0.75      9043\n",
            "weighted avg       0.90      0.91      0.90      9043\n",
            "\n",
            "ROC-AUC Score: 0.9245395134781306\n",
            "\n",
            "Threshold: 0.55\n",
            "Classification Report:\n",
            "              precision    recall  f1-score   support\n",
            "\n",
            "           0       0.93      0.97      0.95      7985\n",
            "           1       0.66      0.43      0.52      1058\n",
            "\n",
            "    accuracy                           0.91      9043\n",
            "   macro avg       0.79      0.70      0.73      9043\n",
            "weighted avg       0.90      0.91      0.90      9043\n",
            "\n",
            "ROC-AUC Score: 0.9245395134781306\n",
            "\n",
            "Threshold: 0.6\n",
            "Classification Report:\n",
            "              precision    recall  f1-score   support\n",
            "\n",
            "           0       0.92      0.98      0.95      7985\n",
            "           1       0.68      0.34      0.45      1058\n",
            "\n",
            "    accuracy                           0.90      9043\n",
            "   macro avg       0.80      0.66      0.70      9043\n",
            "weighted avg       0.89      0.90      0.89      9043\n",
            "\n",
            "ROC-AUC Score: 0.9245395134781306\n"
          ]
        },
        {
          "output_type": "display_data",
          "data": {
            "text/plain": [
              "<Figure size 640x480 with 1 Axes>"
            ],
            "image/png": "[encoded data removed]"
          },
          "metadata": {}
        },
        {
          "output_type": "stream",
          "name": "stdout",
          "text": [
            "Optimal Threshold for F1-Score: 0.3128928244113922\n"
          ]
        }
      ]
    },
    {
      "cell_type": "markdown",
      "source": [
        "##RF"
      ],
      "metadata": {
        "id": "RM41jiAjhqti"
      }
    },
    {
      "cell_type": "code",
      "source": [
        "def train_random_forest(X_train, y_train):\n",
        "    \"\"\"\n",
        "    Trains a Random Forest classifier.\n",
        "\n",
        "    Parameters:\n",
        "        X_train (pd.DataFrame): Training features.\n",
        "        y_train (pd.Series): Training target variable.\n",
        "\n",
        "    Returns:\n",
        "        rf_model: Trained Random Forest model.\n",
        "    \"\"\"\n",
        "    rf_model = RandomForestClassifier(random_state=42)\n",
        "    rf_model.fit(X_train, y_train)\n",
        "    return rf_model\n"
      ],
      "metadata": {
        "id": "1sxHtxfchu4Z"
      },
      "execution_count": 136,
      "outputs": []
    },
    {
      "cell_type": "code",
      "source": [
        " rf_model = train_random_forest(X_train_resampled, y_train_resampled)"
      ],
      "metadata": {
        "id": "SN3l8hjtiNCo"
      },
      "execution_count": 137,
      "outputs": []
    },
    {
      "cell_type": "markdown",
      "source": [
        "#Model Evaluation"
      ],
      "metadata": {
        "id": "fPyf9uyYiDth"
      }
    },
    {
      "cell_type": "code",
      "source": [
        "\n",
        "def evaluate_model(model, X_test, y_test, scaler=None, model_type='rf'):\n",
        "    \"\"\"\n",
        "    Evaluates the model and prints classification report and ROC-AUC score.\n",
        "\n",
        "    Parameters:\n",
        "        model: The trained model (Random Forest or Neural Network).\n",
        "        X_test (pd.DataFrame): Test features.\n",
        "        y_test (pd.Series): Test target variable.\n",
        "        scaler: Fitted StandardScaler instance (for Neural Network).\n",
        "        model_type (str): Type of model ('rf' for Random Forest, 'nn' for Neural Network).\n",
        "    \"\"\"\n",
        "    if model_type == 'rf':\n",
        "        y_pred = model.predict(X_test)\n",
        "        y_pred_proba = model.predict_proba(X_test)[:, 1]\n",
        "    elif model_type == 'nn':\n",
        "        X_test_scaled = scaler.transform(X_test)\n",
        "        y_pred_proba = model.predict(X_test_scaled)\n",
        "        y_pred = (y_pred_proba > 0.5).astype(int)\n",
        "\n",
        "    print(f\"{model_type.upper()} Classification Report:\")\n",
        "    print(classification_report(y_test, y_pred))\n",
        "    print(f\"{model_type.upper()} ROC-AUC Score:\", roc_auc_score(y_test, y_pred_proba))\n",
        "    ConfusionMatrixDisplay.from_predictions(y_test, y_pred)"
      ],
      "metadata": {
        "id": "TOn8P-bfiCma"
      },
      "execution_count": 10,
      "outputs": []
    },
    {
      "cell_type": "code",
      "source": [
        "\n",
        "  evaluate_model(nn_model, X_test, y_test, scaler=scaler, model_type='nn')"
      ],
      "metadata": {
        "colab": {
          "base_uri": "https://localhost:8080/",
          "height": 667
        },
        "id": "ylxiiJh_iUEY",
        "outputId": "c14599fe-1524-464b-cfa2-e00d53aae662"
      },
      "execution_count": 46,
      "outputs": [
        {
          "output_type": "stream",
          "name": "stdout",
          "text": [
            "\u001b[1m283/283\u001b[0m \u001b[32m━━━━━━━━━━━━━━━━━━━━\u001b[0m\u001b[37m\u001b[0m \u001b[1m0s\u001b[0m 2ms/step\n",
            "NN Classification Report:\n",
            "              precision    recall  f1-score   support\n",
            "\n",
            "           0       0.93      0.97      0.95      7985\n",
            "           1       0.65      0.42      0.51      1058\n",
            "\n",
            "    accuracy                           0.91      9043\n",
            "   macro avg       0.79      0.70      0.73      9043\n",
            "weighted avg       0.89      0.91      0.90      9043\n",
            "\n",
            "NN ROC-AUC Score: 0.9245533626968335\n"
          ]
        },
        {
          "output_type": "display_data",
          "data": {
            "text/plain": [
              "<Figure size 640x480 with 2 Axes>"
            ],
            "image/png": "[encoded data removed]"
          },
          "metadata": {}
        }
      ]
    },
    {
      "cell_type": "code",
      "source": [
        "evaluate_model(rf_model, X_test, y_test, model_type='rf')"
      ],
      "metadata": {
        "colab": {
          "base_uri": "https://localhost:8080/",
          "height": 649
        },
        "id": "BPLfIHgDq8W1",
        "outputId": "79e6c382-08e0-4e54-d34d-8c05b4d6428a"
      },
      "execution_count": 138,
      "outputs": [
        {
          "output_type": "stream",
          "name": "stdout",
          "text": [
            "RF Classification Report:\n",
            "              precision    recall  f1-score   support\n",
            "\n",
            "           0       0.94      0.95      0.94      7985\n",
            "           1       0.59      0.51      0.55      1058\n",
            "\n",
            "    accuracy                           0.90      9043\n",
            "   macro avg       0.76      0.73      0.75      9043\n",
            "weighted avg       0.90      0.90      0.90      9043\n",
            "\n",
            "RF ROC-AUC Score: 0.9207566053079204\n"
          ]
        },
        {
          "output_type": "display_data",
          "data": {
            "text/plain": [
              "<Figure size 640x480 with 2 Axes>"
            ],
            "image/png": "[encoded data removed]"
          },
          "metadata": {}
        }
      ]
    },
    {
      "cell_type": "markdown",
      "source": [
        "#Fine Tuning"
      ],
      "metadata": {
        "id": "-_9svK62oFvT"
      }
    },
    {
      "cell_type": "markdown",
      "source": [
        "##NN"
      ],
      "metadata": {
        "id": "JeNRqW5poLyN"
      }
    },
    {
      "cell_type": "code",
      "source": [
        "def hyperparameter_tuning(X_train, y_train):\n",
        "    \"\"\"\n",
        "    Performs hyperparameter tuning using KerasTuner.\n",
        "    \"\"\"\n",
        "    def build_tuned_model(hp):\n",
        "        model = Sequential([\n",
        "            Dense(hp.Int('units_layer1', min_value=64, max_value=256, step=32), activation='relu', input_dim=X_train_scaled.shape[1]),\n",
        "            Dropout(hp.Float('dropout_rate', min_value=0.1, max_value=0.5, step=0.1)),\n",
        "            Dense(hp.Int('units_layer2', min_value=32, max_value=128, step=32), activation='relu'),\n",
        "            Dropout(hp.Float('dropout_rate', min_value=0.1, max_value=0.5, step=0.1)),\n",
        "            Dense(1, activation='sigmoid')\n",
        "        ])\n",
        "        model.compile(optimizer='adam', loss='binary_crossentropy', metrics=['accuracy', 'Precision', 'Recall', 'AUC'])\n",
        "        return model\n",
        "\n",
        "    scaler = StandardScaler()\n",
        "    X_train_scaled = scaler.fit_transform(X_train)\n",
        "\n",
        "    tuner = RandomSearch(\n",
        "        build_tuned_model,\n",
        "        objective='val_accuracy',\n",
        "        max_trials=10,\n",
        "        executions_per_trial=1,\n",
        "        directory='tuner_results',\n",
        "        project_name='nn_hyperparam_tuning'\n",
        "    )\n",
        "    tuner.search(X_train_scaled, y_train, epochs=20, validation_split=0.2, callbacks=[EarlyStopping(patience=5)])\n",
        "    best_hyperparameters = tuner.get_best_hyperparameters()[0]\n",
        "    print(\"Best hyperparameters found:\", best_hyperparameters.values)\n",
        "    best_model = tuner.hypermodel.build(best_hyperparameters)\n",
        "    return best_model, scaler"
      ],
      "metadata": {
        "id": "TVaFZULHoJ4V"
      },
      "execution_count": null,
      "outputs": []
    },
    {
      "cell_type": "code",
      "source": [
        "\n",
        "    # Learning Rate Scheduler\n",
        "    def scheduler(epoch, lr):\n",
        "        if epoch < 10:\n",
        "            return lr\n",
        "        else:\n",
        "            return lr * tf.math.exp(-0.1).numpy()\n",
        "\n",
        "    lr_scheduler = LearningRateScheduler(scheduler)"
      ],
      "metadata": {
        "id": "GSeevr70ohOb"
      },
      "execution_count": null,
      "outputs": []
    },
    {
      "cell_type": "code",
      "source": [
        "# Perform hyperparameter tuning\n",
        "best_model, scaler = hyperparameter_tuning(X_train, y_train)\n",
        "\n",
        "# Evaluate tuned model\n",
        "final_accuracy = evaluate_neural_network(best_model, X_test, y_test, scaler)\n",
        "\n",
        "print(\"Final Model Performance:\")\n",
        "print(f\"Final Accuracy (Test): {final_accuracy:.4f}\")\n",
        "\n",
        "# Cross-Validation\n",
        "skf = StratifiedKFold(n_splits=5, shuffle=True, random_state=42)\n",
        "accuracies = []\n",
        "\n",
        "for train_index, test_index in skf.split(X, y):\n",
        "        X_train_cv, X_test_cv = X.iloc[train_index], X.iloc[test_index]\n",
        "        y_train_cv, y_test_cv = y.iloc[train_index], y.iloc[test_index]\n",
        "\n",
        "        X_train_cv, y_train_cv = smote.fit_resample(X_train_cv, y_train_cv)\n",
        "        model_cv, scaler_cv = build_and_train_neural_network(X_train_cv, y_train_cv, lr_scheduler=lr_scheduler)\n",
        "        accuracy = evaluate_neural_network(model_cv, X_test_cv, y_test_cv, scaler_cv)\n",
        "        accuracies.append(accuracy)\n",
        "\n",
        "print(f\"Cross-Validation Accuracy: {np.mean(accuracies):.4f}\")"
      ],
      "metadata": {
        "id": "2FcGbbxvoiGM"
      },
      "execution_count": null,
      "outputs": []
    },
    {
      "cell_type": "markdown",
      "source": [
        "##RF"
      ],
      "metadata": {
        "id": "ZvfKbFvVpIdT"
      }
    },
    {
      "cell_type": "code",
      "source": [
        "def fine_tune_random_forest(X_train, y_train):\n",
        "    \"\"\"\n",
        "    Fine-tunes the Random Forest classifier using GridSearchCV.\n",
        "    \"\"\"\n",
        "    param_grid = {\n",
        "        'n_estimators': [100, 200, 300],\n",
        "        'max_depth': [None, 10, 20, 50],\n",
        "        'min_samples_split': [2, 5, 10],\n",
        "        'min_samples_leaf': [1, 2, 5],\n",
        "        'max_features': ['sqrt', 'log2'],\n",
        "        'bootstrap': [True, False]\n",
        "    }\n",
        "    rf = RandomForestClassifier(random_state=42)\n",
        "    grid_search = GridSearchCV(estimator=rf, param_grid=param_grid, cv=3, scoring='roc_auc', n_jobs=-1)\n",
        "    grid_search.fit(X_train, y_train)\n",
        "    return grid_search.best_estimator_, grid_search.best_params_\n",
        "\n",
        "\n"
      ],
      "metadata": {
        "id": "-fvSZtlkpKRa"
      },
      "execution_count": 139,
      "outputs": []
    },
    {
      "cell_type": "code",
      "source": [
        "def feature_importance(rf_model, feature_names):\n",
        "    \"\"\"\n",
        "    Plots the feature importance for the Random Forest model.\n",
        "    \"\"\"\n",
        "    importances = rf_model.feature_importances_\n",
        "    sorted_indices = importances.argsort()[::-1]\n",
        "    plt.figure(figsize=(10, 6))\n",
        "    plt.bar(range(len(importances)), importances[sorted_indices])\n",
        "    plt.xticks(range(len(importances)), feature_names[sorted_indices], rotation=90)\n",
        "    plt.title('Feature Importance')\n",
        "    plt.show()"
      ],
      "metadata": {
        "id": "bsuXFmNgpeRj"
      },
      "execution_count": 140,
      "outputs": []
    },
    {
      "cell_type": "code",
      "source": [
        "print(\"Fine-tuning Random Forest...\")\n",
        "rf_best_model, best_params = fine_tune_random_forest(X_train_resampled, y_train_resampled)\n",
        "print(\"Best Parameters:\", best_params)\n",
        "\n",
        "print(\"Evaluating the best model on test data...\")\n",
        "evaluate_model(rf_best_model, X_test, y_test, model_type='rf')\n",
        "\n",
        "print(\"Plotting feature importance...\")\n",
        "feature_importance(rf_best_model, X.columns)"
      ],
      "metadata": {
        "colab": {
          "base_uri": "https://localhost:8080/"
        },
        "id": "_Z_-ZH50plCC",
        "outputId": "e3c60e0d-e9d9-4fe1-fc6c-bbe22dbb145d"
      },
      "execution_count": null,
      "outputs": [
        {
          "metadata": {
            "tags": null
          },
          "name": "stdout",
          "output_type": "stream",
          "text": [
            "Fine-tuning Random Forest...\n"
          ]
        }
      ]
    }
  ],
  "metadata": {
    "language_info": {
      "name": "python"
    },
    "colab": {
      "provenance": []
    },
    "kernelspec": {
      "name": "python3",
      "display_name": "Python 3"
    }
  },
  "nbformat": 4,
  "nbformat_minor": 0
}